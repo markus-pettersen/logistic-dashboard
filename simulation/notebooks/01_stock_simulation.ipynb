{
 "cells": [
  {
   "cell_type": "markdown",
   "id": "b41355e6-3271-46c1-bddd-44a58cefc6b8",
   "metadata": {},
   "source": [
    "# Simulating Stock\n",
    "\n",
    "This notebook details the process of creating a simulated dataset.\n",
    "\n",
    "This simulation models a distribution warehouse that acts as an intermediary between a large supplier and the end customer. \n",
    "\n",
    "The warehouse:\n",
    "\n",
    "- Purchases shipments in bulk from an upstream supplier.\n",
    "- Stores and manages the stock.\n",
    "- Fulfills customer orders through daily outbound deliveries.\n",
    "- Aims to balance utilization and delivery efficiency while keeping costs low.\n",
    "\n",
    "The simulation explores different stock replenishment strategies (scheduled vs. Just-in-Time) and tracks key perfomance metrics such as stock levels, unmet demand and shipment volumes. This reflects a common B2C logistics model where warehouses play critical roles in order fulfilment. \n",
    "\n",
    "Import the required modules:"
   ]
  },
  {
   "cell_type": "code",
   "execution_count": 1,
   "id": "d76a0193-f4b9-4e8f-84e3-b121bd074cfc",
   "metadata": {},
   "outputs": [],
   "source": [
    "# pandas dataframes:\n",
    "import pandas as pd\n",
    "# statistical distributions:\n",
    "import numpy as np\n",
    "from scipy import stats\n",
    "import math"
   ]
  },
  {
   "cell_type": "markdown",
   "id": "84ddee26-5f31-4b7a-ad92-393e156389f1",
   "metadata": {},
   "source": [
    "## Basic set-up\n",
    "\n",
    "First, we need to set up the basic parametres of the simulation, including:\n",
    "\n",
    "- The period over which the simulation runs\n",
    "- The products stocked in the warehouse\n",
    "- The number of warehouses in the network\n"
   ]
  },
  {
   "cell_type": "markdown",
   "id": "5a5509ce-b19a-4775-832b-0f792981ebdd",
   "metadata": {},
   "source": [
    "### Time period\n",
    "\n",
    "The period will start on the 1st January 2024 (which is conveniently a Monday), and run for one quarter or 90 days."
   ]
  },
  {
   "cell_type": "code",
   "execution_count": 2,
   "id": "2a7f3a5c-d730-400a-b099-31ab346ba893",
   "metadata": {},
   "outputs": [],
   "source": [
    "start_date = pd.to_datetime(\"2024-01-01\")\n",
    "dates = pd.date_range(start_date, periods=90)\n",
    "df_dates = pd.DataFrame({\"date\": dates})"
   ]
  },
  {
   "cell_type": "markdown",
   "id": "3e9768d2-9e76-4260-9fb1-de975552e5c5",
   "metadata": {},
   "source": [
    "### Products\n",
    "\n",
    "The products are items that will be sold and despatched from the warehouse. For the simulation, we will use product IDs. More information can be found in the products dimension table."
   ]
  },
  {
   "cell_type": "code",
   "execution_count": 3,
   "id": "9654c93f-727b-44aa-8b77-179cb6b415e9",
   "metadata": {},
   "outputs": [],
   "source": [
    "product_ids = [f\"P{str(i).zfill(3)}\" for i in range(1, 16)]\n",
    "df_products = pd.DataFrame({\"product_id\": product_ids})"
   ]
  },
  {
   "cell_type": "markdown",
   "id": "84775801-36e2-48ee-86eb-03df62aa5849",
   "metadata": {},
   "source": [
    "Cross join the two dataframes to get every combination of products and date, representing the inventory flow for each product on each day:"
   ]
  },
  {
   "cell_type": "code",
   "execution_count": 4,
   "id": "58775416-0c74-41a4-bac5-99daf234f97e",
   "metadata": {},
   "outputs": [],
   "source": [
    "df = df_dates.merge(df_products, how=\"cross\")"
   ]
  },
  {
   "cell_type": "markdown",
   "id": "eb97455e-14d9-469a-a41e-af9ad025384a",
   "metadata": {},
   "source": [
    "### Warehouses\n",
    "\n",
    "For simplicity, we will have one warehouse. This can be changed in the future to incorporate more warehouses:"
   ]
  },
  {
   "cell_type": "code",
   "execution_count": 5,
   "id": "8c909a60-3206-4f00-8a08-04ce5714232b",
   "metadata": {},
   "outputs": [],
   "source": [
    "df[\"warehouse_id\"] = \"WH1\""
   ]
  },
  {
   "cell_type": "markdown",
   "id": "e9f27001-9ca9-4046-8fbb-2531af43967b",
   "metadata": {},
   "source": [
    "### Additional set-up\n",
    "\n",
    "Initialize inbound units to zero:"
   ]
  },
  {
   "cell_type": "code",
   "execution_count": 6,
   "id": "9ebd7c8c-add8-4d0f-9dc6-fd2b17996a39",
   "metadata": {},
   "outputs": [],
   "source": [
    "df[\"inbound_units\"] = 0"
   ]
  },
  {
   "cell_type": "markdown",
   "id": "c0657320-c32e-4c15-8c57-9131755ad61e",
   "metadata": {},
   "source": [
    "Classify each product by how quickly it sells. The products that sell quickly are assigned lower product numbers:"
   ]
  },
  {
   "cell_type": "code",
   "execution_count": 7,
   "id": "d0f62af5-19b3-4b43-a2d6-0945ff84e180",
   "metadata": {},
   "outputs": [],
   "source": [
    "fast_movers = product_ids[0:5]\n",
    "medium_movers = product_ids[5:10]\n",
    "slow_movers = product_ids[10:]"
   ]
  },
  {
   "cell_type": "markdown",
   "id": "5155fe5a-8b61-443c-ada2-127ea1e62ba4",
   "metadata": {},
   "source": [
    "This method of classification resembles a simplified **ABC analysis** framework.\n",
    "\n",
    "In such a framework, goods that are expected to provide the majority of the revenue, the fast movers, are assigned to **class A**. These goods require the most frequent restocking. Goods with a moderate demand and contribute a moderate amount of revenue are classified as **class B**. In our simulation, these are the medium movers. Finally, **class C** goods are either low-value or infrequently ordered, these are represented by the slow movers."
   ]
  },
  {
   "cell_type": "markdown",
   "id": "0dea06f3-5351-45ba-8526-bd86759cea0c",
   "metadata": {},
   "source": [
    "## Inventory flow\n",
    "\n",
    "A key part of the simulation is **inventory flow** where products enter and leave the warehouse. For the purposes of the simulation, we will assume that each order is for one and only one item.\n",
    "\n",
    "Inventory flow can be modeled by considering:\n",
    "\n",
    "- Demand (customer orders for products).\n",
    "- Outbound items (how many products actually leave the warehouse).\n",
    "- Inbound items (how many items are delivered to the warehouse from the supplier).\n",
    "- Inventory level (how many items are left in the warehouse after inbound and outbound items are considered)"
   ]
  },
  {
   "cell_type": "markdown",
   "id": "81821b12-f5ed-4586-adfd-0a3890b33942",
   "metadata": {},
   "source": [
    "### Demand\n",
    "\n",
    "\n",
    "Simulate orders for each product. Every day, there will be a number of items ordered for each product.\n",
    "\n",
    "We can use different probability distributions to model different behaviours of base demand.\n",
    "\n",
    "- **Fast movers** (Class A) - Normal distribution (high and consistent demand).\n",
    "- **Medium movers** (Class B) - Poisson distribution (steady but lower demand). \n",
    "- **Slow movers** (Class C) - Negative binomial distribution (low and erratic demand)."
   ]
  },
  {
   "cell_type": "code",
   "execution_count": 8,
   "id": "932bf383-c9c8-4451-b562-df88d06e0a06",
   "metadata": {},
   "outputs": [],
   "source": [
    "def assign_group(row):\n",
    "    product_id = row[\"product_id\"]\n",
    "    if product_id in fast_movers:\n",
    "        return \"A\"\n",
    "    elif product_id in medium_movers:\n",
    "        return \"B\"\n",
    "    else:\n",
    "        return \"C\""
   ]
  },
  {
   "cell_type": "code",
   "execution_count": 9,
   "id": "b20ac707-e7aa-4304-805d-5311d7a45d93",
   "metadata": {},
   "outputs": [],
   "source": [
    "df[\"class\"] = df.apply(assign_group, axis=1)"
   ]
  },
  {
   "cell_type": "markdown",
   "id": "1b985aba-ee21-4d2b-ae4f-9471ca454f6c",
   "metadata": {},
   "source": [
    "For more variable demand, we can also modify the underlying base demand by adding noise with an additional normal distribution. \n",
    "\n",
    "Additionally, we can also add a chance of random demand spikes and dips, and demand that changes over the course of a month. This unpredictability reflects real-world scenarios and necessitates different approaches to find the optimal solution.\n",
    "\n",
    "First generate demand multiplier from the <code>date</code> column:"
   ]
  },
  {
   "cell_type": "code",
   "execution_count": 10,
   "id": "db7af5af-6e31-4a1f-bc10-61ecc0c4b51b",
   "metadata": {},
   "outputs": [],
   "source": [
    "def date_based_demand(date):\n",
    "    day = date.day\n",
    "    if day <= 7:\n",
    "    # higher demand at the start of the month\n",
    "        return np.random.normal(1.2, 0.05)\n",
    "    elif day >= 22:\n",
    "    # lower demand at the end of the month\n",
    "        return np.random.normal(0.7, 0.05)\n",
    "    else:\n",
    "        return 1"
   ]
  },
  {
   "cell_type": "markdown",
   "id": "a5bed497-298a-4a5d-aa3a-f1f4804e8486",
   "metadata": {},
   "source": [
    "Use the date function in the larger <code>simulate_demand</code> function:"
   ]
  },
  {
   "cell_type": "code",
   "execution_count": 11,
   "id": "41ad4283-a89d-4aa6-a294-9652dd71a199",
   "metadata": {},
   "outputs": [],
   "source": [
    "def simulate_demand(row):\n",
    "    product_id = row[\"product_id\"]\n",
    "    date_multiplier = date_based_demand(row[\"date\"])\n",
    "    \n",
    "    \n",
    "    # There is a chance to have a larger or smaller demand than normal\n",
    "    event_chance = np.random.rand()\n",
    "\n",
    "    if event_chance > 0.9:\n",
    "        demand_multiplier = 1.2\n",
    "    elif event_chance < 0.1:\n",
    "        demand_multiplier = 0.7\n",
    "    else:\n",
    "        demand_multiplier = 1\n",
    "\n",
    "    # simulate the demand using relevant distributions \n",
    "    if product_id in fast_movers:\n",
    "        base_demand = np.random.normal(loc=25, scale=5)\n",
    "        fluct_scale = 5\n",
    "    elif product_id in medium_movers:\n",
    "        base_demand = np.random.poisson(lam=9)\n",
    "        fluct_scale = 3\n",
    "    else:\n",
    "        base_demand = stats.nbinom.rvs(n=2, p=0.3)\n",
    "        fluct_scale = 1\n",
    "\n",
    "    # simulate random flucuations each day\n",
    "    fluctuation = np.random.normal(loc=0, scale=fluct_scale)\n",
    "    demand = int(max(0, base_demand * demand_multiplier * date_multiplier + fluctuation))\n",
    "\n",
    "    return demand\n"
   ]
  },
  {
   "cell_type": "code",
   "execution_count": 12,
   "id": "324363f7-5a36-4abf-acba-d4428a8bdfbc",
   "metadata": {},
   "outputs": [],
   "source": [
    "df[\"demand\"] = df.apply(simulate_demand, axis=1)"
   ]
  },
  {
   "cell_type": "markdown",
   "id": "73d48141-798a-4a2f-a536-1c1b8aefd136",
   "metadata": {},
   "source": [
    "Initialize the <code>actual_outbound</code> column to be equal to the demand."
   ]
  },
  {
   "cell_type": "code",
   "execution_count": 13,
   "id": "d803d1d6-d561-4dba-91c0-fe3a62d410e3",
   "metadata": {},
   "outputs": [],
   "source": [
    "df[\"actual_outbound\"] = df[\"demand\"]"
   ]
  },
  {
   "cell_type": "markdown",
   "id": "ef3d1f45-9873-4add-8658-13f0bdf66ba3",
   "metadata": {},
   "source": [
    "### Inbound stock\n",
    "Next, we need to model deliveries from the supplier to replenish the warehouse inventory.\n",
    "\n",
    "There are different stock replenishment strategies that vary on how often and how much stock is replinished in each cycle.\n",
    "\n",
    "We will be comparing two replenishment strategies:\n",
    "\n",
    "- Weekly scheduled deliveries.\n",
    "- Just-in-Time (JIT) deliveries.\n",
    "\n",
    "We will also consider **lead time**, the time it takes for an order to arrive at the warehouse after it has been ordered.\n",
    "\n",
    "#### Weekly deliveries\n",
    "\n",
    "**Weekly deliveries** are consolidated orders delivered on a weekly schedule. The amount ordered each week depends on the seven-day moving average on the order date. In the simulation, these orders will be placed every Friday and arrive after the lead time has passed (3 days by default).\n",
    "\n",
    "Weekly deliveries can combine many deliveries into a single larger delivery saving money and reducing the carbon footprint. However, they are less responsive to changes in demand and can lead to excess or insufficient stock incurring high storage costs or lost sales.\n",
    "\n",
    "#### Just-in-Time (JIT) deliveries\n",
    "\n",
    "**Just-in-Time delveries** are deliveries that are scheduled when the inventory of a product is running low, so new goods arrive when as they are needed. This strategy can reduce holding costs by keeping the inventory lean, but requires a reliable and responsive supplier with a short lead time to avoid stock outs.\n"
   ]
  },
  {
   "cell_type": "code",
   "execution_count": 14,
   "id": "6acd4966-42ec-4e26-82f7-b46ead12998c",
   "metadata": {},
   "outputs": [],
   "source": [
    "def simulate_inventory(group, policy=\"weekly\", lead_time=3, restock_point_mod=0.35):\n",
    "\n",
    "    group = group.copy()\n",
    "\n",
    "    # Establish starting stock (buffer stock) based on ABC classification\n",
    "    item_class = group[\"class\"].iloc[0]\n",
    "    starting_stock_dict = {\"A\": 200, \"B\": 75, \"C\": 35}\n",
    "    inventory = starting_stock_dict.get(item_class)\n",
    "    reorder_point = starting_stock_dict.get(item_class) * restock_point_mod\n",
    "\n",
    "    # Initialize empty lists\n",
    "    inventory_list = []\n",
    "    actual_outbound_list = []\n",
    "    inbound_list = []\n",
    "    pending_orders = [] # contains tuples with date and quantity\n",
    "    stockout_list = []\n",
    "\n",
    "    # Calculate the seven-day rolling average for demand\n",
    "    group[\"seven_day_average\"] = group[\"demand\"].shift(1).rolling(window=7, min_periods=1).mean().round()\n",
    "\n",
    "    # iterate through the group\n",
    "    for index, row in group.iterrows():\n",
    "        \n",
    "        date = row[\"date\"]\n",
    "        demand = row[\"demand\"]\n",
    "        rolling_average = row[\"seven_day_average\"]\n",
    "\n",
    "        # 1. apply inbound orders in the inbound orders list if date matches\n",
    "        arrivals_today = [q for (d, q) in pending_orders if d == date]\n",
    "        inbound_today = sum(arrivals_today)\n",
    "        inventory += inbound_today\n",
    "        pending_orders = [(d, q) for (d, q) in pending_orders if d != date]\n",
    "\n",
    "        # 2. ship out orders equal to demand\n",
    "        actual_outbound = min(demand, inventory)\n",
    "        inventory -= actual_outbound\n",
    "\n",
    "        # prevent multiple orders when an order is inbound\n",
    "        has_pending_order = any(d > date for (d, _) in pending_orders)\n",
    "\n",
    "        # 3. replenishment logic\n",
    "        if  policy == \"JIT\":\n",
    "        # Every day check if stock is below \n",
    "            if inventory < reorder_point and not has_pending_order:\n",
    "                delivery_date = date + pd.Timedelta(days=lead_time)\n",
    "                pending_orders.append((delivery_date, starting_stock_dict.get(item_class)))\n",
    "\n",
    "        elif policy == \"weekly\" and date.dayofweek == 4:\n",
    "            # uses the rolling average for the week\n",
    "            if rolling_average and not pd.isna(rolling_average):\n",
    "                delivery_quantity = 7 * int(rolling_average)\n",
    "                # Simulate items being packed in groups of 10\n",
    "                packet_size = 10\n",
    "                total_packets = math.ceil(delivery_quantity / packet_size)\n",
    "                total_delivery = total_packets * packet_size\n",
    "                delivery_date = date + pd.Timedelta(days=lead_time)\n",
    "                # avoid over-stocking\n",
    "                if inventory < (1.5 * total_delivery):\n",
    "                    pending_orders.append((delivery_date, total_delivery))\n",
    "\n",
    "        inventory_list.append(inventory)\n",
    "        actual_outbound_list.append(actual_outbound)\n",
    "        inbound_list.append(inbound_today)\n",
    "        stockout_list.append(actual_outbound < demand)\n",
    "            \n",
    "                \n",
    "    group[\"inventory_level\"] = inventory_list\n",
    "    group[\"actual_outbound\"] = actual_outbound_list\n",
    "    group[\"inbound_units\"] = inbound_list\n",
    "    group[\"stockout_flag\"] = stockout_list\n",
    "    group[\"unmet_demand\"] = group[\"demand\"] - group[\"actual_outbound\"]\n",
    "\n",
    "    return group"
   ]
  },
  {
   "cell_type": "code",
   "execution_count": 15,
   "id": "d1d4f25c-024a-401e-aabf-a2e481487294",
   "metadata": {},
   "outputs": [],
   "source": [
    "weekly_df = df.groupby(['product_id', 'warehouse_id'], group_keys=False).apply(simulate_inventory)"
   ]
  },
  {
   "cell_type": "code",
   "execution_count": 16,
   "id": "96029f62-1f23-4795-aaa9-1102818c813a",
   "metadata": {},
   "outputs": [],
   "source": [
    "jit_df = df.groupby(['product_id', 'warehouse_id'], group_keys=False).apply(simulate_inventory, policy=\"JIT\")"
   ]
  },
  {
   "cell_type": "markdown",
   "id": "db1ad6dc-f5f1-4b2b-b3bd-d1aab3829692",
   "metadata": {},
   "source": [
    "Lead time."
   ]
  },
  {
   "cell_type": "code",
   "execution_count": 17,
   "id": "cdf86086-1566-497d-84d6-48ef898eb39a",
   "metadata": {},
   "outputs": [
    {
     "data": {
      "text/html": [
       "<div>\n",
       "<style scoped>\n",
       "    .dataframe tbody tr th:only-of-type {\n",
       "        vertical-align: middle;\n",
       "    }\n",
       "\n",
       "    .dataframe tbody tr th {\n",
       "        vertical-align: top;\n",
       "    }\n",
       "\n",
       "    .dataframe thead tr th {\n",
       "        text-align: left;\n",
       "    }\n",
       "\n",
       "    .dataframe thead tr:last-of-type th {\n",
       "        text-align: right;\n",
       "    }\n",
       "</style>\n",
       "<table border=\"1\" class=\"dataframe\">\n",
       "  <thead>\n",
       "    <tr>\n",
       "      <th></th>\n",
       "      <th>demand</th>\n",
       "      <th>actual_outbound</th>\n",
       "      <th colspan=\"2\" halign=\"left\">inventory_level</th>\n",
       "    </tr>\n",
       "    <tr>\n",
       "      <th></th>\n",
       "      <th>sum</th>\n",
       "      <th>sum</th>\n",
       "      <th>max</th>\n",
       "      <th>min</th>\n",
       "    </tr>\n",
       "    <tr>\n",
       "      <th>product_id</th>\n",
       "      <th></th>\n",
       "      <th></th>\n",
       "      <th></th>\n",
       "      <th></th>\n",
       "    </tr>\n",
       "  </thead>\n",
       "  <tbody>\n",
       "    <tr>\n",
       "      <th>P001</th>\n",
       "      <td>2252</td>\n",
       "      <td>2167</td>\n",
       "      <td>312</td>\n",
       "      <td>0</td>\n",
       "    </tr>\n",
       "    <tr>\n",
       "      <th>P002</th>\n",
       "      <td>2084</td>\n",
       "      <td>2050</td>\n",
       "      <td>311</td>\n",
       "      <td>0</td>\n",
       "    </tr>\n",
       "    <tr>\n",
       "      <th>P003</th>\n",
       "      <td>2080</td>\n",
       "      <td>1999</td>\n",
       "      <td>237</td>\n",
       "      <td>0</td>\n",
       "    </tr>\n",
       "    <tr>\n",
       "      <th>P004</th>\n",
       "      <td>2055</td>\n",
       "      <td>1949</td>\n",
       "      <td>264</td>\n",
       "      <td>0</td>\n",
       "    </tr>\n",
       "    <tr>\n",
       "      <th>P005</th>\n",
       "      <td>2090</td>\n",
       "      <td>1993</td>\n",
       "      <td>264</td>\n",
       "      <td>0</td>\n",
       "    </tr>\n",
       "    <tr>\n",
       "      <th>P006</th>\n",
       "      <td>808</td>\n",
       "      <td>784</td>\n",
       "      <td>94</td>\n",
       "      <td>0</td>\n",
       "    </tr>\n",
       "    <tr>\n",
       "      <th>P007</th>\n",
       "      <td>668</td>\n",
       "      <td>647</td>\n",
       "      <td>96</td>\n",
       "      <td>0</td>\n",
       "    </tr>\n",
       "    <tr>\n",
       "      <th>P008</th>\n",
       "      <td>704</td>\n",
       "      <td>698</td>\n",
       "      <td>104</td>\n",
       "      <td>0</td>\n",
       "    </tr>\n",
       "    <tr>\n",
       "      <th>P009</th>\n",
       "      <td>633</td>\n",
       "      <td>628</td>\n",
       "      <td>103</td>\n",
       "      <td>0</td>\n",
       "    </tr>\n",
       "    <tr>\n",
       "      <th>P010</th>\n",
       "      <td>784</td>\n",
       "      <td>784</td>\n",
       "      <td>122</td>\n",
       "      <td>10</td>\n",
       "    </tr>\n",
       "    <tr>\n",
       "      <th>P011</th>\n",
       "      <td>305</td>\n",
       "      <td>295</td>\n",
       "      <td>66</td>\n",
       "      <td>0</td>\n",
       "    </tr>\n",
       "    <tr>\n",
       "      <th>P012</th>\n",
       "      <td>364</td>\n",
       "      <td>339</td>\n",
       "      <td>73</td>\n",
       "      <td>0</td>\n",
       "    </tr>\n",
       "    <tr>\n",
       "      <th>P013</th>\n",
       "      <td>308</td>\n",
       "      <td>306</td>\n",
       "      <td>54</td>\n",
       "      <td>0</td>\n",
       "    </tr>\n",
       "    <tr>\n",
       "      <th>P014</th>\n",
       "      <td>356</td>\n",
       "      <td>334</td>\n",
       "      <td>69</td>\n",
       "      <td>0</td>\n",
       "    </tr>\n",
       "    <tr>\n",
       "      <th>P015</th>\n",
       "      <td>348</td>\n",
       "      <td>348</td>\n",
       "      <td>66</td>\n",
       "      <td>7</td>\n",
       "    </tr>\n",
       "  </tbody>\n",
       "</table>\n",
       "</div>"
      ],
      "text/plain": [
       "           demand actual_outbound inventory_level    \n",
       "              sum             sum             max min\n",
       "product_id                                           \n",
       "P001         2252            2167             312   0\n",
       "P002         2084            2050             311   0\n",
       "P003         2080            1999             237   0\n",
       "P004         2055            1949             264   0\n",
       "P005         2090            1993             264   0\n",
       "P006          808             784              94   0\n",
       "P007          668             647              96   0\n",
       "P008          704             698             104   0\n",
       "P009          633             628             103   0\n",
       "P010          784             784             122  10\n",
       "P011          305             295              66   0\n",
       "P012          364             339              73   0\n",
       "P013          308             306              54   0\n",
       "P014          356             334              69   0\n",
       "P015          348             348              66   7"
      ]
     },
     "execution_count": 17,
     "metadata": {},
     "output_type": "execute_result"
    }
   ],
   "source": [
    "weekly_df.groupby(\"product_id\").agg({\"demand\": \"sum\", \"actual_outbound\": \"sum\", \"inventory_level\": [\"max\", \"min\"]})"
   ]
  },
  {
   "cell_type": "code",
   "execution_count": 18,
   "id": "7abe94eb-bb6f-466d-8abf-aba6e472c5ef",
   "metadata": {},
   "outputs": [
    {
     "data": {
      "text/html": [
       "<div>\n",
       "<style scoped>\n",
       "    .dataframe tbody tr th:only-of-type {\n",
       "        vertical-align: middle;\n",
       "    }\n",
       "\n",
       "    .dataframe tbody tr th {\n",
       "        vertical-align: top;\n",
       "    }\n",
       "\n",
       "    .dataframe thead tr th {\n",
       "        text-align: left;\n",
       "    }\n",
       "\n",
       "    .dataframe thead tr:last-of-type th {\n",
       "        text-align: right;\n",
       "    }\n",
       "</style>\n",
       "<table border=\"1\" class=\"dataframe\">\n",
       "  <thead>\n",
       "    <tr>\n",
       "      <th></th>\n",
       "      <th>demand</th>\n",
       "      <th>actual_outbound</th>\n",
       "      <th colspan=\"2\" halign=\"left\">inventory_level</th>\n",
       "    </tr>\n",
       "    <tr>\n",
       "      <th></th>\n",
       "      <th>sum</th>\n",
       "      <th>sum</th>\n",
       "      <th>max</th>\n",
       "      <th>min</th>\n",
       "    </tr>\n",
       "    <tr>\n",
       "      <th>product_id</th>\n",
       "      <th></th>\n",
       "      <th></th>\n",
       "      <th></th>\n",
       "      <th></th>\n",
       "    </tr>\n",
       "  </thead>\n",
       "  <tbody>\n",
       "    <tr>\n",
       "      <th>P001</th>\n",
       "      <td>2252</td>\n",
       "      <td>2200</td>\n",
       "      <td>222</td>\n",
       "      <td>0</td>\n",
       "    </tr>\n",
       "    <tr>\n",
       "      <th>P002</th>\n",
       "      <td>2084</td>\n",
       "      <td>2064</td>\n",
       "      <td>221</td>\n",
       "      <td>0</td>\n",
       "    </tr>\n",
       "    <tr>\n",
       "      <th>P003</th>\n",
       "      <td>2080</td>\n",
       "      <td>2057</td>\n",
       "      <td>225</td>\n",
       "      <td>0</td>\n",
       "    </tr>\n",
       "    <tr>\n",
       "      <th>P004</th>\n",
       "      <td>2055</td>\n",
       "      <td>2033</td>\n",
       "      <td>227</td>\n",
       "      <td>0</td>\n",
       "    </tr>\n",
       "    <tr>\n",
       "      <th>P005</th>\n",
       "      <td>2090</td>\n",
       "      <td>2083</td>\n",
       "      <td>217</td>\n",
       "      <td>0</td>\n",
       "    </tr>\n",
       "    <tr>\n",
       "      <th>P006</th>\n",
       "      <td>808</td>\n",
       "      <td>795</td>\n",
       "      <td>82</td>\n",
       "      <td>0</td>\n",
       "    </tr>\n",
       "    <tr>\n",
       "      <th>P007</th>\n",
       "      <td>668</td>\n",
       "      <td>665</td>\n",
       "      <td>81</td>\n",
       "      <td>0</td>\n",
       "    </tr>\n",
       "    <tr>\n",
       "      <th>P008</th>\n",
       "      <td>704</td>\n",
       "      <td>704</td>\n",
       "      <td>81</td>\n",
       "      <td>0</td>\n",
       "    </tr>\n",
       "    <tr>\n",
       "      <th>P009</th>\n",
       "      <td>633</td>\n",
       "      <td>633</td>\n",
       "      <td>91</td>\n",
       "      <td>3</td>\n",
       "    </tr>\n",
       "    <tr>\n",
       "      <th>P010</th>\n",
       "      <td>784</td>\n",
       "      <td>762</td>\n",
       "      <td>86</td>\n",
       "      <td>0</td>\n",
       "    </tr>\n",
       "    <tr>\n",
       "      <th>P011</th>\n",
       "      <td>305</td>\n",
       "      <td>291</td>\n",
       "      <td>40</td>\n",
       "      <td>0</td>\n",
       "    </tr>\n",
       "    <tr>\n",
       "      <th>P012</th>\n",
       "      <td>364</td>\n",
       "      <td>343</td>\n",
       "      <td>40</td>\n",
       "      <td>0</td>\n",
       "    </tr>\n",
       "    <tr>\n",
       "      <th>P013</th>\n",
       "      <td>308</td>\n",
       "      <td>296</td>\n",
       "      <td>41</td>\n",
       "      <td>0</td>\n",
       "    </tr>\n",
       "    <tr>\n",
       "      <th>P014</th>\n",
       "      <td>356</td>\n",
       "      <td>349</td>\n",
       "      <td>41</td>\n",
       "      <td>0</td>\n",
       "    </tr>\n",
       "    <tr>\n",
       "      <th>P015</th>\n",
       "      <td>348</td>\n",
       "      <td>345</td>\n",
       "      <td>43</td>\n",
       "      <td>0</td>\n",
       "    </tr>\n",
       "  </tbody>\n",
       "</table>\n",
       "</div>"
      ],
      "text/plain": [
       "           demand actual_outbound inventory_level    \n",
       "              sum             sum             max min\n",
       "product_id                                           \n",
       "P001         2252            2200             222   0\n",
       "P002         2084            2064             221   0\n",
       "P003         2080            2057             225   0\n",
       "P004         2055            2033             227   0\n",
       "P005         2090            2083             217   0\n",
       "P006          808             795              82   0\n",
       "P007          668             665              81   0\n",
       "P008          704             704              81   0\n",
       "P009          633             633              91   3\n",
       "P010          784             762              86   0\n",
       "P011          305             291              40   0\n",
       "P012          364             343              40   0\n",
       "P013          308             296              41   0\n",
       "P014          356             349              41   0\n",
       "P015          348             345              43   0"
      ]
     },
     "execution_count": 18,
     "metadata": {},
     "output_type": "execute_result"
    }
   ],
   "source": [
    "jit_df.groupby(\"product_id\").agg({\"demand\": \"sum\", \"actual_outbound\": \"sum\", \"inventory_level\": [\"max\", \"min\"]})"
   ]
  },
  {
   "cell_type": "code",
   "execution_count": 19,
   "id": "680b70c5-1a6b-4a53-b3a3-853486c573d2",
   "metadata": {},
   "outputs": [],
   "source": [
    "df_test = weekly_df[weekly_df[\"product_id\"] == \"P003\"]"
   ]
  },
  {
   "cell_type": "code",
   "execution_count": 20,
   "id": "81d86ea1-24b4-41da-b51b-da1535ab3302",
   "metadata": {},
   "outputs": [],
   "source": [
    "df_test_2 = jit_df[jit_df[\"product_id\"] == \"P003\"]"
   ]
  },
  {
   "cell_type": "code",
   "execution_count": 21,
   "id": "e2c42914-c685-4d82-b332-36c451aa9bba",
   "metadata": {},
   "outputs": [
    {
     "data": {
      "text/plain": [
       "array([[<Axes: title={'center': 'demand'}>]], dtype=object)"
      ]
     },
     "execution_count": 21,
     "metadata": {},
     "output_type": "execute_result"
    },
    {
     "data": {
      "image/png": "[encoded data removed]",
      "text/plain": [
       "<Figure size 640x480 with 1 Axes>"
      ]
     },
     "metadata": {},
     "output_type": "display_data"
    }
   ],
   "source": [
    "df_test.hist(\"demand\")"
   ]
  },
  {
   "cell_type": "code",
   "execution_count": 22,
   "id": "9f77bdf6-b301-4fa1-88d0-499b2a958590",
   "metadata": {},
   "outputs": [],
   "source": [
    "df_test.to_csv(\"test.csv\", index=False)"
   ]
  },
  {
   "cell_type": "code",
   "execution_count": 23,
   "id": "6acfa5ca-b170-489b-819c-c1193603c141",
   "metadata": {},
   "outputs": [],
   "source": [
    "df_test_2.to_csv(\"test_2.csv\", index=False)"
   ]
  }
 ],
 "metadata": {
  "kernelspec": {
   "display_name": "Python 3 (ipykernel)",
   "language": "python",
   "name": "python3"
  },
  "language_info": {
   "codemirror_mode": {
    "name": "ipython",
    "version": 3
   },
   "file_extension": ".py",
   "mimetype": "text/x-python",
   "name": "python",
   "nbconvert_exporter": "python",
   "pygments_lexer": "ipython3",
   "version": "3.10.11"
  }
 },
 "nbformat": 4,
 "nbformat_minor": 5
}
