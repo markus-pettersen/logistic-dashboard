{
 "cells": [
  {
   "cell_type": "markdown",
   "id": "1fd788d3-01a6-4b49-9e03-ea854f23cb3f",
   "metadata": {},
   "source": [
    "# Part 3 - Loading Data"
   ]
  },
  {
   "cell_type": "code",
   "execution_count": 1,
   "id": "cca178e5-2c94-45ef-97fe-99d38226921f",
   "metadata": {},
   "outputs": [],
   "source": [
    "import pandas as pd\n",
    "import numpy as np\n",
    "from sqlalchemy import create_engine, Column, Integer, String, Float, ForeignKey\n",
    "from sqlalchemy.orm import declarative_base, relationship\n",
    "\n",
    "\n",
    "product_df = pd.read_csv(\"../data/warehouse_products.csv\")\n",
    "operations_df = pd.read_csv(\"../data/warehouse_daily.csv\")"
   ]
  },
  {
   "cell_type": "markdown",
   "id": "9e54bf44-654e-4460-899c-cf818750cf82",
   "metadata": {},
   "source": [
    "## Wide to Long"
   ]
  },
  {
   "cell_type": "code",
   "execution_count": 2,
   "id": "ff0901d9-438f-466b-b70e-048e82908321",
   "metadata": {},
   "outputs": [],
   "source": [
    "def select_one_strategy(df, underscore_strategy, shared_columns, strategy):\n",
    "    \n",
    "    column_list = [column for column in df.columns if column.endswith(underscore_strategy)]\n",
    "    renamed_columns = {column: column.replace(underscore_strategy, \"\") for column in column_list}\n",
    "    single_strat_df = df[shared_columns + column_list].rename(columns=renamed_columns)\n",
    "    single_strat_df[\"strategy\"] = strategy\n",
    "\n",
    "    return single_strat_df"
   ]
  },
  {
   "cell_type": "code",
   "execution_count": 3,
   "id": "b6741422-0996-4fa4-9035-f67ea841630a",
   "metadata": {},
   "outputs": [],
   "source": [
    "shared_columns_pro = [\"date\", \"product_id\", \"warehouse_id\", \"demand\"]"
   ]
  },
  {
   "cell_type": "code",
   "execution_count": 4,
   "id": "b225a9c7-bce0-494a-8521-29d51966ce5c",
   "metadata": {},
   "outputs": [],
   "source": [
    "weekly_pro_df = select_one_strategy(product_df, \"_weekly\", shared_columns_pro, \"weekly\")\n",
    "jit_pro_df = select_one_strategy(product_df, \"_jit\", shared_columns_pro, \"JIT\")\n",
    "combined_product_df = pd.concat([weekly_pro_df, jit_pro_df], ignore_index=True)"
   ]
  },
  {
   "cell_type": "code",
   "execution_count": 5,
   "id": "3c13ed8f-e1e6-4a34-bafc-38e05cf62d06",
   "metadata": {},
   "outputs": [],
   "source": [
    "shared_columns_op = [\"date\", \"warehouse_id\"]"
   ]
  },
  {
   "cell_type": "code",
   "execution_count": 9,
   "id": "046e151e-657c-421c-be7e-0626dc90f3c8",
   "metadata": {},
   "outputs": [],
   "source": [
    "weekly_op_df = select_one_strategy(operations_df, \"_weekly\", shared_columns_op, \"weekly\")\n",
    "jit_op_df = select_one_strategy(operations_df, \"_jit\", shared_columns_op, \"JIT\")\n",
    "combined_operations_df = pd.concat([weekly_op_df, jit_op_df], ignore_index=True)"
   ]
  },
  {
   "cell_type": "markdown",
   "id": "e775c3e5-1127-455d-bbb9-6db2c120cdc2",
   "metadata": {
    "jp-MarkdownHeadingCollapsed": true
   },
   "source": [
    "## Schema\n",
    "\n",
    "<center><img src=\"../schema.svg\"></center>\n",
    "<center><i>Schema created with <a href=\"https://dbdiagram.io/\">dbdiagram.io</a></i></center>"
   ]
  }
 ],
 "metadata": {
  "kernelspec": {
   "display_name": "Python 3 (ipykernel)",
   "language": "python",
   "name": "python3"
  },
  "language_info": {
   "codemirror_mode": {
    "name": "ipython",
    "version": 3
   },
   "file_extension": ".py",
   "mimetype": "text/x-python",
   "name": "python",
   "nbconvert_exporter": "python",
   "pygments_lexer": "ipython3",
   "version": "3.10.11"
  }
 },
 "nbformat": 4,
 "nbformat_minor": 5
}
