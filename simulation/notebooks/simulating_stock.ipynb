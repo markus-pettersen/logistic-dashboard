{
 "cells": [
  {
   "cell_type": "markdown",
   "id": "b41355e6-3271-46c1-bddd-44a58cefc6b8",
   "metadata": {},
   "source": [
    "# Simulating Stock: Warehouse Modelling - Products\n",
    "\n",
    "This notebook details the process of creating a simulated dataset."
   ]
  },
  {
   "cell_type": "code",
   "execution_count": 1,
   "id": "d76a0193-f4b9-4e8f-84e3-b121bd074cfc",
   "metadata": {},
   "outputs": [],
   "source": [
    "import pandas as pd\n",
    "import numpy as np\n",
    "from scipy import stats\n"
   ]
  },
  {
   "cell_type": "markdown",
   "id": "84ddee26-5f31-4b7a-ad92-393e156389f1",
   "metadata": {},
   "source": [
    "## Basic set-up"
   ]
  },
  {
   "cell_type": "markdown",
   "id": "5a5509ce-b19a-4775-832b-0f792981ebdd",
   "metadata": {},
   "source": [
    "Define the period of the simulation (1 Quarter/90 days):"
   ]
  },
  {
   "cell_type": "code",
   "execution_count": 2,
   "id": "2a7f3a5c-d730-400a-b099-31ab346ba893",
   "metadata": {},
   "outputs": [],
   "source": [
    "start_date = pd.to_datetime(\"2024-01-01\")\n",
    "dates = pd.date_range(start_date, periods=90)\n",
    "df_dates = pd.DataFrame({\"date\": dates})"
   ]
  },
  {
   "cell_type": "markdown",
   "id": "3e9768d2-9e76-4260-9fb1-de975552e5c5",
   "metadata": {},
   "source": [
    "Define the products to be sold from warehouse:"
   ]
  },
  {
   "cell_type": "code",
   "execution_count": 3,
   "id": "9654c93f-727b-44aa-8b77-179cb6b415e9",
   "metadata": {},
   "outputs": [],
   "source": [
    "product_ids = [f\"P{str(i).zfill(3)}\" for i in range(1, 16)]\n",
    "df_products = pd.DataFrame({\"product_id\": product_ids})"
   ]
  },
  {
   "cell_type": "markdown",
   "id": "84775801-36e2-48ee-86eb-03df62aa5849",
   "metadata": {},
   "source": [
    "Cross join the two dataframes to get every combination of products and date:"
   ]
  },
  {
   "cell_type": "code",
   "execution_count": 4,
   "id": "58775416-0c74-41a4-bac5-99daf234f97e",
   "metadata": {},
   "outputs": [],
   "source": [
    "df = df_dates.merge(df_products, how=\"cross\")"
   ]
  },
  {
   "cell_type": "markdown",
   "id": "eb97455e-14d9-469a-a41e-af9ad025384a",
   "metadata": {},
   "source": [
    "For simplicity, we will have one warehouse initially:"
   ]
  },
  {
   "cell_type": "code",
   "execution_count": 5,
   "id": "8c909a60-3206-4f00-8a08-04ce5714232b",
   "metadata": {},
   "outputs": [],
   "source": [
    "df[\"warehouse_id\"] = \"WH1\""
   ]
  },
  {
   "cell_type": "markdown",
   "id": "e9f27001-9ca9-4046-8fbb-2531af43967b",
   "metadata": {},
   "source": [
    "Initialize inbound units to zero:"
   ]
  },
  {
   "cell_type": "code",
   "execution_count": 6,
   "id": "9ebd7c8c-add8-4d0f-9dc6-fd2b17996a39",
   "metadata": {},
   "outputs": [],
   "source": [
    "df[\"inbound_units\"] = 0"
   ]
  },
  {
   "cell_type": "markdown",
   "id": "c0657320-c32e-4c15-8c57-9131755ad61e",
   "metadata": {},
   "source": [
    "Classify each product by how quickly it sells. The products that sell quickly are assigned lower product numbers:"
   ]
  },
  {
   "cell_type": "code",
   "execution_count": 7,
   "id": "d0f62af5-19b3-4b43-a2d6-0945ff84e180",
   "metadata": {},
   "outputs": [],
   "source": [
    "fast_movers = product_ids[0:5]\n",
    "medium_movers = product_ids[5:10]\n",
    "slow_movers = product_ids[10:]"
   ]
  },
  {
   "cell_type": "markdown",
   "id": "5155fe5a-8b61-443c-ada2-127ea1e62ba4",
   "metadata": {},
   "source": [
    "This method of classification resembles a simplified **ABC analysis** framework. In such a framework, goods that are expected to provide the majority of the revenue, the fast movers, are assigned to **class A**. These goods require the most frequent restocking. Goods with a moderate demand and contribute a moderate amount of revenue are classified as **class B**. In our simulation, these are the medium movers. Finally, **class C** goods are either low-value or infrequently ordered, these are represented by the slow movers."
   ]
  },
  {
   "cell_type": "markdown",
   "id": "81821b12-f5ed-4586-adfd-0a3890b33942",
   "metadata": {},
   "source": [
    "## Outbound demand\n",
    "Simulate orders for each product. Every day, there will be a random number of items ordered for each product.\n",
    "\n",
    "We can use different probability distributions to model different behaviours of base demand.\n",
    "\n",
    "- **Fast movers** (Class A) - Normal distribution (high and consistent demand).\n",
    "- **Medium movers** (Class B) - Poisson distribution (steady but lower demand). \n",
    "- **Slow movers** (Class C) - Negative binomial distribution (low and erratic demand).\n",
    "\n",
    "For more variable demand, we can also modify the underlying base demand by adding noise with an additional normal distribution. \n",
    "\n",
    "Additionally, we can also add a chance of demand spikes and dips, and variation given the date. This will challenge demand forecasting based on the weekly moving average."
   ]
  },
  {
   "cell_type": "code",
   "execution_count": 8,
   "id": "932bf383-c9c8-4451-b562-df88d06e0a06",
   "metadata": {},
   "outputs": [],
   "source": [
    "def assign_group(row):\n",
    "    product_id = row[\"product_id\"]\n",
    "    if product_id in fast_movers:\n",
    "        return \"A\"\n",
    "    elif product_id in medium_movers:\n",
    "        return \"B\"\n",
    "    else:\n",
    "        return \"C\""
   ]
  },
  {
   "cell_type": "code",
   "execution_count": 9,
   "id": "b20ac707-e7aa-4304-805d-5311d7a45d93",
   "metadata": {},
   "outputs": [],
   "source": [
    "df[\"class\"] = df.apply(assign_group, axis=1)"
   ]
  },
  {
   "cell_type": "markdown",
   "id": "1b985aba-ee21-4d2b-ae4f-9471ca454f6c",
   "metadata": {},
   "source": [
    "First generate demand multiplier from the <code>date</code> column:"
   ]
  },
  {
   "cell_type": "code",
   "execution_count": 10,
   "id": "db7af5af-6e31-4a1f-bc10-61ecc0c4b51b",
   "metadata": {},
   "outputs": [],
   "source": [
    "def date_based_demand(date):\n",
    "    day = date.day\n",
    "    if day <= 7:\n",
    "    # higher demand at the start of the month\n",
    "        return np.random.normal(1.2, 0.05)\n",
    "    elif day >= 22:\n",
    "    # lower demand at the end of the month\n",
    "        return np.random.normal(0.7, 0.05)\n",
    "    else:\n",
    "        return 1"
   ]
  },
  {
   "cell_type": "markdown",
   "id": "a5bed497-298a-4a5d-aa3a-f1f4804e8486",
   "metadata": {},
   "source": [
    "Use the date function in the larger <code>simulate_demand</code> function:"
   ]
  },
  {
   "cell_type": "code",
   "execution_count": 11,
   "id": "41ad4283-a89d-4aa6-a294-9652dd71a199",
   "metadata": {},
   "outputs": [],
   "source": [
    "def simulate_demand(row):\n",
    "    product_id = row[\"product_id\"]\n",
    "    date_multiplier = date_based_demand(row[\"date\"])\n",
    "    \n",
    "    \n",
    "    # There is a chance to have a larger or smaller demand than normal\n",
    "    event_chance = np.random.rand()\n",
    "\n",
    "    if event_chance > 0.9:\n",
    "        demand_multiplier = 1.2\n",
    "    elif event_chance < 0.1:\n",
    "        demand_multiplier = 0.7\n",
    "    else:\n",
    "        demand_multiplier = 1\n",
    "\n",
    "    # simulate the demand using relevant distributions \n",
    "    if product_id in fast_movers:\n",
    "        base_demand = np.random.normal(loc=25, scale=5)\n",
    "        fluct_scale = 5\n",
    "    elif product_id in medium_movers:\n",
    "        base_demand = np.random.poisson(lam=9)\n",
    "        fluct_scale = 3\n",
    "    else:\n",
    "        base_demand = stats.nbinom.rvs(n=2, p=0.3)\n",
    "        fluct_scale = 1\n",
    "\n",
    "    # simulate random flucuations each day\n",
    "    fluctuation = np.random.normal(loc=0, scale=fluct_scale)\n",
    "    demand = int(max(0, base_demand * demand_multiplier * date_multiplier + fluctuation))\n",
    "\n",
    "    return demand\n"
   ]
  },
  {
   "cell_type": "code",
   "execution_count": 12,
   "id": "324363f7-5a36-4abf-acba-d4428a8bdfbc",
   "metadata": {},
   "outputs": [],
   "source": [
    "df[\"demand\"] = df.apply(simulate_demand, axis=1)"
   ]
  },
  {
   "cell_type": "markdown",
   "id": "73d48141-798a-4a2f-a536-1c1b8aefd136",
   "metadata": {},
   "source": [
    "Initialize the <code>actual_outbound</code> column to be equal to the demand."
   ]
  },
  {
   "cell_type": "code",
   "execution_count": 13,
   "id": "d803d1d6-d561-4dba-91c0-fe3a62d410e3",
   "metadata": {},
   "outputs": [],
   "source": [
    "df[\"actual_outbound\"] = df[\"demand\"]"
   ]
  },
  {
   "cell_type": "markdown",
   "id": "ef3d1f45-9873-4add-8658-13f0bdf66ba3",
   "metadata": {},
   "source": [
    "## Inbound stock\n",
    "Next, we need to model deliveries from the supplier to replenish the warehouse inventory.\n",
    "\n",
    "There are different stock replenishment strategies that vary on how often and how much stock is replinished in each cycle."
   ]
  },
  {
   "cell_type": "code",
   "execution_count": 14,
   "id": "22b23cae-9b26-4ca9-b781-78eda810b93a",
   "metadata": {},
   "outputs": [],
   "source": [
    "df[\"seven_day_average\"] = df.groupby(\"product_id\")[\"demand\"].transform(lambda x: x.shift(1).rolling(window=7, min_periods=1).mean().round(0))"
   ]
  },
  {
   "cell_type": "markdown",
   "id": "41585dac-d021-413e-89bb-9eaac2bf6ba2",
   "metadata": {},
   "source": [
    "Schedule an order on Friday:"
   ]
  },
  {
   "cell_type": "code",
   "execution_count": 15,
   "id": "77c2a89e-82a8-4f53-8997-2cedd665240b",
   "metadata": {},
   "outputs": [],
   "source": [
    "def simulate_order(row):\n",
    "    if row[\"date\"].dayofweek == 4:\n",
    "        average = row[\"seven_day_average\"]\n",
    "        if pd.isna(average):\n",
    "            average = 0\n",
    "\n",
    "        items_needed = int(7 * average)\n",
    "\n",
    "        return items_needed\n",
    "    else:\n",
    "        return 0"
   ]
  },
  {
   "cell_type": "markdown",
   "id": "23fccadc-5122-4fb0-8ebc-9c921240a410",
   "metadata": {},
   "source": [
    "An order is placed on Friday that matches the the weekly demand up to that point:"
   ]
  },
  {
   "cell_type": "code",
   "execution_count": 16,
   "id": "ddeffb5a-51e2-426c-8f2a-4a1de035a93b",
   "metadata": {},
   "outputs": [],
   "source": [
    "df[\"order_placed\"] = df.apply(simulate_order, axis=1)"
   ]
  },
  {
   "cell_type": "markdown",
   "id": "db1ad6dc-f5f1-4b2b-b3bd-d1aab3829692",
   "metadata": {},
   "source": [
    "Lead time."
   ]
  },
  {
   "cell_type": "code",
   "execution_count": 17,
   "id": "ba4c5574-2c1e-42d5-90cd-6b8a2d9bb3ec",
   "metadata": {},
   "outputs": [],
   "source": [
    "df[\"inbound_units\"] = (df.groupby(\"product_id\")[\"order_placed\"].shift(3).fillna(0).astype(int))"
   ]
  },
  {
   "cell_type": "code",
   "execution_count": 18,
   "id": "5ba729c5-daab-4dcb-81a0-ee5a9dc0ef30",
   "metadata": {},
   "outputs": [],
   "source": [
    "\n",
    "\n",
    "def calculate_stock(group):\n",
    "    group = group.copy()\n",
    "\n",
    "    # initialize lists\n",
    "    item_class = group[\"class\"].iloc[0]\n",
    "    starting_stock_dict = {\"A\": 200, \"B\": 75, \"C\": 35}\n",
    "    starting_stock = starting_stock_dict.get(item_class)\n",
    "    inventory = starting_stock\n",
    "    inventory_levels = []\n",
    "    actual_outbounds = []\n",
    "    stockout_flags = []\n",
    "\n",
    "    # iterate through rows\n",
    "    for _, row in group.iterrows():\n",
    "        inbound = row[\"inbound_units\"]\n",
    "        demand = row[\"demand\"]\n",
    "\n",
    "        # add inbound stock to inventory\n",
    "        inventory += inbound\n",
    "\n",
    "        # either send out full demand or what is left in stock whatever is smaller\n",
    "        actual_outbound = min(demand, inventory)\n",
    "        inventory -= actual_outbound\n",
    "\n",
    "        # record new values in list\n",
    "        inventory_levels.append(inventory)\n",
    "        actual_outbounds.append(actual_outbound)\n",
    "        stockout_flags.append(actual_outbound < demand)\n",
    "        \n",
    "    group[\"actual_outbound\"] = actual_outbounds\n",
    "    group[\"inventory_level\"] = inventory_levels\n",
    "    group[\"stockout_flag\"] = stockout_flags\n",
    "\n",
    "    return group"
   ]
  },
  {
   "cell_type": "code",
   "execution_count": 19,
   "id": "1d80d2eb-de34-490f-8e78-ccaddd5b1815",
   "metadata": {},
   "outputs": [],
   "source": [
    "df = df.groupby(['product_id', 'warehouse_id'], group_keys=False).apply(calculate_stock)"
   ]
  },
  {
   "cell_type": "code",
   "execution_count": 20,
   "id": "fa16c958-096d-4dad-b9ed-609f3b79e15a",
   "metadata": {},
   "outputs": [],
   "source": [
    "df[\"unmet_demand\"] = df[\"demand\"] - df[\"actual_outbound\"]"
   ]
  },
  {
   "cell_type": "code",
   "execution_count": 21,
   "id": "3a39290e-1c50-459c-a8e3-cb6f009eac7e",
   "metadata": {},
   "outputs": [],
   "source": [
    "df.to_csv(\"../data/warehouse_products.csv\", index=False)"
   ]
  },
  {
   "cell_type": "code",
   "execution_count": 22,
   "id": "fadd6477-f785-4ff8-a0be-522f8790a242",
   "metadata": {},
   "outputs": [
    {
     "data": {
      "text/html": [
       "<div>\n",
       "<style scoped>\n",
       "    .dataframe tbody tr th:only-of-type {\n",
       "        vertical-align: middle;\n",
       "    }\n",
       "\n",
       "    .dataframe tbody tr th {\n",
       "        vertical-align: top;\n",
       "    }\n",
       "\n",
       "    .dataframe thead th {\n",
       "        text-align: right;\n",
       "    }\n",
       "</style>\n",
       "<table border=\"1\" class=\"dataframe\">\n",
       "  <thead>\n",
       "    <tr style=\"text-align: right;\">\n",
       "      <th></th>\n",
       "      <th>demand</th>\n",
       "      <th>actual_outbound</th>\n",
       "    </tr>\n",
       "    <tr>\n",
       "      <th>product_id</th>\n",
       "      <th></th>\n",
       "      <th></th>\n",
       "    </tr>\n",
       "  </thead>\n",
       "  <tbody>\n",
       "    <tr>\n",
       "      <th>P001</th>\n",
       "      <td>2070</td>\n",
       "      <td>2062</td>\n",
       "    </tr>\n",
       "    <tr>\n",
       "      <th>P002</th>\n",
       "      <td>2112</td>\n",
       "      <td>2097</td>\n",
       "    </tr>\n",
       "    <tr>\n",
       "      <th>P003</th>\n",
       "      <td>2073</td>\n",
       "      <td>2073</td>\n",
       "    </tr>\n",
       "    <tr>\n",
       "      <th>P004</th>\n",
       "      <td>2139</td>\n",
       "      <td>2118</td>\n",
       "    </tr>\n",
       "    <tr>\n",
       "      <th>P005</th>\n",
       "      <td>2005</td>\n",
       "      <td>1995</td>\n",
       "    </tr>\n",
       "    <tr>\n",
       "      <th>P006</th>\n",
       "      <td>734</td>\n",
       "      <td>702</td>\n",
       "    </tr>\n",
       "    <tr>\n",
       "      <th>P007</th>\n",
       "      <td>775</td>\n",
       "      <td>775</td>\n",
       "    </tr>\n",
       "    <tr>\n",
       "      <th>P008</th>\n",
       "      <td>691</td>\n",
       "      <td>688</td>\n",
       "    </tr>\n",
       "    <tr>\n",
       "      <th>P009</th>\n",
       "      <td>767</td>\n",
       "      <td>760</td>\n",
       "    </tr>\n",
       "    <tr>\n",
       "      <th>P010</th>\n",
       "      <td>732</td>\n",
       "      <td>732</td>\n",
       "    </tr>\n",
       "    <tr>\n",
       "      <th>P011</th>\n",
       "      <td>295</td>\n",
       "      <td>279</td>\n",
       "    </tr>\n",
       "    <tr>\n",
       "      <th>P012</th>\n",
       "      <td>356</td>\n",
       "      <td>336</td>\n",
       "    </tr>\n",
       "    <tr>\n",
       "      <th>P013</th>\n",
       "      <td>383</td>\n",
       "      <td>357</td>\n",
       "    </tr>\n",
       "    <tr>\n",
       "      <th>P014</th>\n",
       "      <td>408</td>\n",
       "      <td>382</td>\n",
       "    </tr>\n",
       "    <tr>\n",
       "      <th>P015</th>\n",
       "      <td>364</td>\n",
       "      <td>346</td>\n",
       "    </tr>\n",
       "  </tbody>\n",
       "</table>\n",
       "</div>"
      ],
      "text/plain": [
       "            demand  actual_outbound\n",
       "product_id                         \n",
       "P001          2070             2062\n",
       "P002          2112             2097\n",
       "P003          2073             2073\n",
       "P004          2139             2118\n",
       "P005          2005             1995\n",
       "P006           734              702\n",
       "P007           775              775\n",
       "P008           691              688\n",
       "P009           767              760\n",
       "P010           732              732\n",
       "P011           295              279\n",
       "P012           356              336\n",
       "P013           383              357\n",
       "P014           408              382\n",
       "P015           364              346"
      ]
     },
     "execution_count": 22,
     "metadata": {},
     "output_type": "execute_result"
    }
   ],
   "source": [
    "df.groupby(\"product_id\").agg({\"demand\": \"sum\", \"actual_outbound\": \"sum\"})"
   ]
  },
  {
   "cell_type": "code",
   "execution_count": 23,
   "id": "680b70c5-1a6b-4a53-b3a3-853486c573d2",
   "metadata": {},
   "outputs": [],
   "source": [
    "df_test = df[df[\"product_id\"] == \"P003\"]"
   ]
  },
  {
   "cell_type": "code",
   "execution_count": 24,
   "id": "e2c42914-c685-4d82-b332-36c451aa9bba",
   "metadata": {},
   "outputs": [
    {
     "data": {
      "text/plain": [
       "array([[<Axes: title={'center': 'demand'}>]], dtype=object)"
      ]
     },
     "execution_count": 24,
     "metadata": {},
     "output_type": "execute_result"
    },
    {
     "data": {
      "image/png": "[encoded data removed]",
      "text/plain": [
       "<Figure size 640x480 with 1 Axes>"
      ]
     },
     "metadata": {},
     "output_type": "display_data"
    }
   ],
   "source": [
    "df_test.hist(\"demand\")"
   ]
  },
  {
   "cell_type": "code",
   "execution_count": 25,
   "id": "9f77bdf6-b301-4fa1-88d0-499b2a958590",
   "metadata": {},
   "outputs": [],
   "source": [
    "df_test.to_csv(\"test.csv\", index=False)"
   ]
  },
  {
   "cell_type": "code",
   "execution_count": null,
   "id": "6645e483-6c12-4417-bf63-968a0240e6cc",
   "metadata": {},
   "outputs": [],
   "source": []
  }
 ],
 "metadata": {
  "kernelspec": {
   "display_name": "Python 3 (ipykernel)",
   "language": "python",
   "name": "python3"
  },
  "language_info": {
   "codemirror_mode": {
    "name": "ipython",
    "version": 3
   },
   "file_extension": ".py",
   "mimetype": "text/x-python",
   "name": "python",
   "nbconvert_exporter": "python",
   "pygments_lexer": "ipython3",
   "version": "3.10.11"
  }
 },
 "nbformat": 4,
 "nbformat_minor": 5
}
